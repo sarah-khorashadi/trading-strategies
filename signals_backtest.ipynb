{
 "cells": [
  {
   "cell_type": "code",
   "execution_count": 1,
   "metadata": {},
   "outputs": [
    {
     "name": "stdout",
     "output_type": "stream",
     "text": [
      "Requirement already satisfied: backtrader in c:\\users\\sanaz\\appdata\\local\\programs\\python\\python311\\lib\\site-packages (1.9.78.123)\n"
     ]
    }
   ],
   "source": [
    "!pip install backtrader"
   ]
  },
  {
   "cell_type": "code",
   "execution_count": 2,
   "metadata": {},
   "outputs": [],
   "source": [
    "from __future__ import (absolute_import, division, print_function,\n",
    "                        unicode_literals)\n",
    "import datetime  # For datetime objects\n",
    "import os.path  # To manage paths\n",
    "import sys  # To find out the script name (in argv[0])\n",
    "import backtrader as bt\n",
    "import pandas as pd\n",
    "import datetime\n",
    "import backtrader.feeds as btfreeds\n",
    "import glob\n",
    "import jdatetime"
   ]
  },
  {
   "cell_type": "code",
   "execution_count": 23,
   "metadata": {},
   "outputs": [],
   "source": [
    "class MySignal(bt.Indicator):\n",
    "    lines = ('signal',)\n",
    "    params = (('period', 30),)\n",
    "\n",
    "    def __init__(self):\n",
    "        print(self.data)\n",
    "        print('ji')\n",
    "        self.lines.signal = self.data - bt.indicators.SMA(period=self.p.period)"
   ]
  },
  {
   "cell_type": "code",
   "execution_count": 25,
   "metadata": {},
   "outputs": [
    {
     "ename": "SyntaxError",
     "evalue": "invalid syntax. Perhaps you forgot a comma? (2847320865.py, line 10)",
     "output_type": "error",
     "traceback": [
      "\u001b[1;36m  Cell \u001b[1;32mIn[25], line 10\u001b[1;36m\u001b[0m\n\u001b[1;33m    lines = ('signal',)\u001b[0m\n\u001b[1;37m            ^\u001b[0m\n\u001b[1;31mSyntaxError\u001b[0m\u001b[1;31m:\u001b[0m invalid syntax. Perhaps you forgot a comma?\n"
     ]
    }
   ],
   "source": [
    "import backtrader as bt\n",
    "cerebro = bt.Cerebro()\n",
    "datapath = os.path.join('./data/raw_data/main_attr_togregorian/خساپا.csv')\n",
    "try:\n",
    "    # Use ISO-8859-1 (latin1) or utf-8 based on your file's encoding\n",
    "    df = pd.read_csv(datapath, encoding='utf-8')  # Change 'utf-8' to 'ISO-8859-1' if needed\n",
    "\n",
    "    # Create a Data Feed\n",
    "    data = bt.feeds.GenericCSVData(\n",
    "                    lines = ('signal',)\n",
    "                    dataname=datapath,\n",
    "\n",
    "                    fromdate=datetime.datetime(2024, 3, 30),\n",
    "                    todate=datetime.datetime(2024, 6, 18),\n",
    "\n",
    "                    nullvalue=0.0,\n",
    "\n",
    "                    dtformat=('%Y-%m-%d'),\n",
    "                    tmformat=('%H.%M.%S'),\n",
    "\n",
    "                    datetime=0,\n",
    "                    high=2,\n",
    "                    low=3,\n",
    "                    open=1,\n",
    "                    close=4,\n",
    "                    volume=6,\n",
    "                )\n",
    "except UnicodeDecodeError as e:\n",
    "    print(f\"Error reading the CSV file: {e}\")\n",
    "\n",
    "\n",
    "cerebro.adddata(data)\n",
    "print('Starting Portfolio Value: %.2f' % cerebro.broker.getvalue())\n",
    "cerebro.add_signal(bt.SIGNAL_LONGSHORT, MySignal)\n",
    "cerebro.run()\n",
    "print('Starting Portfolio Value: %.2f' % cerebro.broker.getvalue())"
   ]
  }
 ],
 "metadata": {
  "kernelspec": {
   "display_name": "Python 3",
   "language": "python",
   "name": "python3"
  },
  "language_info": {
   "codemirror_mode": {
    "name": "ipython",
    "version": 3
   },
   "file_extension": ".py",
   "mimetype": "text/x-python",
   "name": "python",
   "nbconvert_exporter": "python",
   "pygments_lexer": "ipython3",
   "version": "3.11.4"
  },
  "orig_nbformat": 4
 },
 "nbformat": 4,
 "nbformat_minor": 2
}
