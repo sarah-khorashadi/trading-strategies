{
 "cells": [
  {
   "cell_type": "code",
   "execution_count": 26,
   "metadata": {},
   "outputs": [],
   "source": [
    "import glob\n",
    "import jdatetime\n",
    "import pandas as pd\n",
    "import os"
   ]
  },
  {
   "cell_type": "code",
   "execution_count": 27,
   "metadata": {},
   "outputs": [],
   "source": [
    "forlder_path = './data/raw_data/stocks/'"
   ]
  },
  {
   "cell_type": "code",
   "execution_count": 28,
   "metadata": {},
   "outputs": [],
   "source": [
    "shamsi_to_miladi = lambda y, m, d: jdatetime.date(y, m, d).togregorian()"
   ]
  },
  {
   "cell_type": "code",
   "execution_count": 29,
   "metadata": {},
   "outputs": [],
   "source": [
    "def convert_shamsi_to_miladi(date_str):\n",
    "    y, m, d = map(int, date_str.split('-'))\n",
    "    miladi_date = shamsi_to_miladi(y, m, d)\n",
    "    return miladi_date"
   ]
  },
  {
   "cell_type": "code",
   "execution_count": 33,
   "metadata": {},
   "outputs": [
    {
     "name": "stdout",
     "output_type": "stream",
     "text": [
      "Index(['datetime', 'Open', 'High', 'Low', 'Close', 'Final', 'Volume'], dtype='object')\n",
      "Index(['datetime', 'Open', 'High', 'Low', 'Close', 'Final', 'Volume'], dtype='object')\n",
      "Index(['datetime', 'Open', 'High', 'Low', 'Close', 'Final', 'Volume'], dtype='object')\n",
      "Index(['datetime', 'Open', 'High', 'Low', 'Close', 'Final', 'Volume'], dtype='object')\n",
      "Index(['datetime', 'Open', 'High', 'Low', 'Close', 'Final', 'Volume'], dtype='object')\n",
      "Index(['datetime', 'Open', 'High', 'Low', 'Close', 'Final', 'Volume'], dtype='object')\n",
      "Index(['datetime', 'Open', 'High', 'Low', 'Close', 'Final', 'Volume'], dtype='object')\n"
     ]
    }
   ],
   "source": [
    "for file_name in os.listdir(forlder_path):\n",
    "    if file_name.endswith('.csv'):\n",
    "        df = pd.read_csv(os.path.join('./data/raw_data/stocks/',file_name))\n",
    "        df['J-Date'] = df['J-Date'].apply(convert_shamsi_to_miladi)\n",
    "        df = df.rename(columns={'J-Date':'datetime'})\n",
    "        converted_csv_file = os.path.join('./data/raw_data/stocks_togregorian/', file_name)\n",
    "        df.to_csv(converted_csv_file, index=False)\n",
    "        df.drop(columns=['Value','No','Ticker','Name','Market'], inplace=True)\n",
    "        print(df.columns)\n",
    "        df.to_csv(os.path.join('./data/raw_data/main_attr_togregorian/', file_name), index=False)"
   ]
  }
 ],
 "metadata": {
  "kernelspec": {
   "display_name": "Python 3",
   "language": "python",
   "name": "python3"
  },
  "language_info": {
   "codemirror_mode": {
    "name": "ipython",
    "version": 3
   },
   "file_extension": ".py",
   "mimetype": "text/x-python",
   "name": "python",
   "nbconvert_exporter": "python",
   "pygments_lexer": "ipython3",
   "version": "3.11.4"
  },
  "orig_nbformat": 4
 },
 "nbformat": 4,
 "nbformat_minor": 2
}
